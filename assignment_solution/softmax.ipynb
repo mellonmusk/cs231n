{
  "cells": [
    {
      "cell_type": "markdown",
      "metadata": {
        "id": "view-in-github",
        "colab_type": "text"
      },
      "source": [
        "<a href=\"https://colab.research.google.com/github/mellonmusk/cs231n/blob/master/assignment_solution/softmax.ipynb\" target=\"_parent\"><img src=\"https://colab.research.google.com/assets/colab-badge.svg\" alt=\"Open In Colab\"/></a>"
      ]
    },
    {
      "cell_type": "code",
      "execution_count": null,
      "id": "d8aaae81",
      "metadata": {
        "colab": {
          "base_uri": "https://localhost:8080/"
        },
        "id": "d8aaae81",
        "outputId": "64caf711-ff36-413a-84d9-d2f66c4b6d89"
      },
      "outputs": [
        {
          "output_type": "stream",
          "name": "stdout",
          "text": [
            "Mounted at /content/drive\n",
            "/content/drive/My Drive/assignment1/cs231n/datasets\n",
            "/content/drive/My Drive/assignment1\n"
          ]
        }
      ],
      "source": [
        "# This mounts your Google Drive to the Colab VM.\n",
        "from google.colab import drive\n",
        "drive.mount('/content/drive')\n",
        "\n",
        "# TODO: Enter the foldername in your Drive where you have saved the unzipped\n",
        "# assignment folder, e.g. 'cs231n/assignments/assignment1/'\n",
        "FOLDERNAME = 'assignment1'\n",
        "assert FOLDERNAME is not None, \"[!] Enter the foldername.\"\n",
        "\n",
        "# Now that we've mounted your Drive, this ensures that\n",
        "# the Python interpreter of the Colab VM can load\n",
        "# python files from within it.\n",
        "import sys\n",
        "sys.path.append('/content/drive/My Drive/{}'.format(FOLDERNAME))\n",
        "\n",
        "# This downloads the CIFAR-10 dataset to your Drive\n",
        "# if it doesn't already exist.\n",
        "%cd /content/drive/My\\ Drive/$FOLDERNAME/cs231n/datasets/\n",
        "!bash get_datasets.sh\n",
        "%cd /content/drive/My\\ Drive/$FOLDERNAME"
      ]
    },
    {
      "cell_type": "markdown",
      "id": "e2c3cfa1",
      "metadata": {
        "tags": [
          "pdf-title"
        ],
        "id": "e2c3cfa1"
      },
      "source": [
        "# Softmax exercise\n",
        "\n",
        "*Complete and hand in this completed worksheet (including its outputs and any supporting code outside of the worksheet) with your assignment submission. For more details see the [assignments page](http://vision.stanford.edu/teaching/cs231n/assignments.html) on the course website.*\n",
        "\n",
        "This exercise is analogous to the SVM exercise. You will:\n",
        "\n",
        "- implement a fully-vectorized **loss function** for the Softmax classifier\n",
        "- implement the fully-vectorized expression for its **analytic gradient**\n",
        "- **check your implementation** with numerical gradient\n",
        "- use a validation set to **tune the learning rate and regularization** strength\n",
        "- **optimize** the loss function with **SGD**\n",
        "- **visualize** the final learned weights\n"
      ]
    },
    {
      "cell_type": "code",
      "execution_count": null,
      "id": "c55a72bf",
      "metadata": {
        "tags": [
          "pdf-ignore"
        ],
        "id": "c55a72bf"
      },
      "outputs": [],
      "source": [
        "import random\n",
        "import numpy as np\n",
        "from cs231n.data_utils import load_CIFAR10\n",
        "import matplotlib.pyplot as plt\n",
        "\n",
        "%matplotlib inline\n",
        "plt.rcParams['figure.figsize'] = (10.0, 8.0) # set default size of plots\n",
        "plt.rcParams['image.interpolation'] = 'nearest'\n",
        "plt.rcParams['image.cmap'] = 'gray'\n",
        "\n",
        "# for auto-reloading extenrnal modules\n",
        "# see http://stackoverflow.com/questions/1907993/autoreload-of-modules-in-ipython\n",
        "%load_ext autoreload\n",
        "%autoreload 2"
      ]
    },
    {
      "cell_type": "code",
      "execution_count": null,
      "id": "b99594ec",
      "metadata": {
        "tags": [
          "pdf-ignore"
        ],
        "colab": {
          "base_uri": "https://localhost:8080/"
        },
        "id": "b99594ec",
        "outputId": "e67ad123-4b16-44d8-9bde-bd1bc1ffa1e0"
      },
      "outputs": [
        {
          "output_type": "stream",
          "name": "stdout",
          "text": [
            "Train data shape:  (49000, 3073)\n",
            "Train labels shape:  (49000,)\n",
            "Validation data shape:  (1000, 3073)\n",
            "Validation labels shape:  (1000,)\n",
            "Test data shape:  (1000, 3073)\n",
            "Test labels shape:  (1000,)\n",
            "dev data shape:  (500, 3073)\n",
            "dev labels shape:  (500,)\n"
          ]
        }
      ],
      "source": [
        "def get_CIFAR10_data(num_training=49000, num_validation=1000, num_test=1000, num_dev=500):\n",
        "    \"\"\"\n",
        "    Load the CIFAR-10 dataset from disk and perform preprocessing to prepare\n",
        "    it for the linear classifier. These are the same steps as we used for the\n",
        "    SVM, but condensed to a single function.\n",
        "    \"\"\"\n",
        "    # Load the raw CIFAR-10 data\n",
        "    cifar10_dir = 'cs231n/datasets/cifar-10-batches-py'\n",
        "\n",
        "    # Cleaning up variables to prevent loading data multiple times (which may cause memory issue)\n",
        "    try:\n",
        "       del X_train, y_train\n",
        "       del X_test, y_test\n",
        "       print('Clear previously loaded data.')\n",
        "    except:\n",
        "       pass\n",
        "\n",
        "    X_train, y_train, X_test, y_test = load_CIFAR10(cifar10_dir)\n",
        "\n",
        "    # subsample the data\n",
        "    mask = list(range(num_training, num_training + num_validation))\n",
        "    X_val = X_train[mask]\n",
        "    y_val = y_train[mask]\n",
        "    mask = list(range(num_training))\n",
        "    X_train = X_train[mask]\n",
        "    y_train = y_train[mask]\n",
        "    mask = list(range(num_test))\n",
        "    X_test = X_test[mask]\n",
        "    y_test = y_test[mask]\n",
        "    mask = np.random.choice(num_training, num_dev, replace=False)\n",
        "    X_dev = X_train[mask]\n",
        "    y_dev = y_train[mask]\n",
        "\n",
        "    # Preprocessing: reshape the image data into rows\n",
        "    X_train = np.reshape(X_train, (X_train.shape[0], -1))\n",
        "    X_val = np.reshape(X_val, (X_val.shape[0], -1))\n",
        "    X_test = np.reshape(X_test, (X_test.shape[0], -1))\n",
        "    X_dev = np.reshape(X_dev, (X_dev.shape[0], -1))\n",
        "\n",
        "    # Normalize the data: subtract the mean image\n",
        "    mean_image = np.mean(X_train, axis = 0)\n",
        "    X_train -= mean_image\n",
        "    X_val -= mean_image\n",
        "    X_test -= mean_image\n",
        "    X_dev -= mean_image\n",
        "\n",
        "    # add bias dimension and transform into columns\n",
        "    X_train = np.hstack([X_train, np.ones((X_train.shape[0], 1))])\n",
        "    X_val = np.hstack([X_val, np.ones((X_val.shape[0], 1))])\n",
        "    X_test = np.hstack([X_test, np.ones((X_test.shape[0], 1))])\n",
        "    X_dev = np.hstack([X_dev, np.ones((X_dev.shape[0], 1))])\n",
        "\n",
        "    return X_train, y_train, X_val, y_val, X_test, y_test, X_dev, y_dev\n",
        "\n",
        "\n",
        "# Invoke the above function to get our data.\n",
        "X_train, y_train, X_val, y_val, X_test, y_test, X_dev, y_dev = get_CIFAR10_data()\n",
        "print('Train data shape: ', X_train.shape)\n",
        "print('Train labels shape: ', y_train.shape)\n",
        "print('Validation data shape: ', X_val.shape)\n",
        "print('Validation labels shape: ', y_val.shape)\n",
        "print('Test data shape: ', X_test.shape)\n",
        "print('Test labels shape: ', y_test.shape)\n",
        "print('dev data shape: ', X_dev.shape)\n",
        "print('dev labels shape: ', y_dev.shape)"
      ]
    },
    {
      "cell_type": "markdown",
      "id": "2713b7f4",
      "metadata": {
        "id": "2713b7f4"
      },
      "source": [
        "## Softmax Classifier\n",
        "\n",
        "Your code for this section will all be written inside `cs231n/classifiers/softmax.py`.\n"
      ]
    },
    {
      "cell_type": "code",
      "execution_count": null,
      "id": "6168f67e",
      "metadata": {
        "colab": {
          "base_uri": "https://localhost:8080/"
        },
        "id": "6168f67e",
        "outputId": "fb9ea140-29c2-44ba-c7d6-b46e2115bb78"
      },
      "outputs": [
        {
          "output_type": "stream",
          "name": "stdout",
          "text": [
            "loss: 2.376492\n",
            "sanity check: 2.302585\n"
          ]
        }
      ],
      "source": [
        "# First implement the naive softmax loss function with nested loops.\n",
        "# Open the file cs231n/classifiers/softmax.py and implement the\n",
        "# softmax_loss_naive function.\n",
        "\n",
        "from cs231n.classifiers.softmax import softmax_loss_naive\n",
        "import time\n",
        "\n",
        "# Generate a random softmax weight matrix and use it to compute the loss.\n",
        "W = np.random.randn(3073, 10) * 0.0001\n",
        "loss, grad = softmax_loss_naive(W, X_dev, y_dev, 0.0)\n",
        "\n",
        "# As a rough sanity check, our loss should be something close to -log(0.1).\n",
        "print('loss: %f' % loss)\n",
        "print('sanity check: %f' % (-np.log(0.1)))"
      ]
    },
    {
      "cell_type": "markdown",
      "id": "b35bc604",
      "metadata": {
        "tags": [
          "pdf-inline"
        ],
        "id": "b35bc604"
      },
      "source": [
        "**Inline Question 1**\n",
        "\n",
        "Why do we expect our loss to be close to -log(0.1)?\n",
        "\n",
        "$\\color{blue}{\\textit Your Answer:}$  \n",
        "\n",
        "The w's are initialized as small values so almost all S~= zeros and   \n",
        "-log((e^Sj)/sum(e^Sj's)) = -log(1/10)\n",
        "\n",
        "\n",
        "Also, we are going to choose from 10 classes, and the probability of choosing the correct class is 0.1. Initially all classes can be chosen equally."
      ]
    },
    {
      "cell_type": "code",
      "execution_count": null,
      "id": "b7bef674",
      "metadata": {
        "id": "b7bef674",
        "colab": {
          "base_uri": "https://localhost:8080/"
        },
        "outputId": "f99064bf-944b-4679-8248-f0c2260180bc"
      },
      "outputs": [
        {
          "output_type": "stream",
          "name": "stdout",
          "text": [
            "numerical: -0.807718 analytic: -0.807718, relative error: 3.963467e-08\n",
            "numerical: -0.401021 analytic: -0.401021, relative error: 5.380227e-09\n",
            "numerical: 3.285952 analytic: 3.285952, relative error: 1.084672e-08\n",
            "numerical: -2.150479 analytic: -2.150479, relative error: 3.119681e-08\n",
            "numerical: 3.329294 analytic: 3.329294, relative error: 2.037063e-08\n",
            "numerical: 0.671853 analytic: 0.671853, relative error: 3.534603e-08\n",
            "numerical: 2.797766 analytic: 2.797766, relative error: 9.924186e-09\n",
            "numerical: -1.959684 analytic: -1.959684, relative error: 4.848078e-09\n",
            "numerical: 1.002100 analytic: 1.002100, relative error: 2.977372e-08\n",
            "numerical: -0.865070 analytic: -0.865070, relative error: 5.481580e-08\n",
            "numerical: -3.051758 analytic: -0.642704, relative error: 6.520718e-01\n",
            "numerical: -3.051758 analytic: -1.622839, relative error: 3.056774e-01\n",
            "numerical: -3.051758 analytic: -0.465272, relative error: 7.354178e-01\n",
            "numerical: -3.051758 analytic: -2.790941, relative error: 4.463980e-02\n",
            "numerical: -3.051758 analytic: -0.989725, relative error: 5.102169e-01\n",
            "numerical: 3.051758 analytic: 0.477816, relative error: 7.292501e-01\n",
            "numerical: 3.051758 analytic: 1.631287, relative error: 3.033220e-01\n",
            "numerical: -3.051758 analytic: -0.382905, relative error: 7.770351e-01\n",
            "numerical: 3.051758 analytic: 3.180478, relative error: 2.065400e-02\n",
            "numerical: 3.051758 analytic: 0.665132, relative error: 6.421028e-01\n"
          ]
        }
      ],
      "source": [
        "# Complete the implementation of softmax_loss_naive and implement a (naive)\n",
        "# version of the gradient that uses nested loops.\n",
        "loss, grad = softmax_loss_naive(W, X_dev, y_dev, 0.0)\n",
        "\n",
        "# As we did for the SVM, use numeric gradient checking as a debugging tool.\n",
        "# The numeric gradient should be close to the analytic gradient.\n",
        "from cs231n.gradient_check import grad_check_sparse\n",
        "f = lambda w: softmax_loss_naive(w, X_dev, y_dev, 0.0)[0]\n",
        "grad_numerical = grad_check_sparse(f, W, grad, 10)\n",
        "\n",
        "# similar to SVM case, do another gradient check with regularization\n",
        "loss, grad = softmax_loss_naive(W, X_dev, y_dev, 5e1)\n",
        "f = lambda w: softmax_loss_naive(w, X_dev, y_dev, 5e1)[0]\n",
        "grad_numerical = grad_check_sparse(f, W, grad, 10)"
      ]
    },
    {
      "cell_type": "markdown",
      "source": [
        "\n",
        "<h3>Explanation of the naive implementation</h3>\n",
        "\n",
        "```\n",
        "num_train = X.shape[0]\n",
        "    num_classes = W.shape[1]\n",
        "    for i in range(num_train):\n",
        "      softmax = np.exp(stable_scores[i])/np.sum(np.exp(stable_scores[i]))\n",
        "      loss += -np.log(softmax[y[i]])\n",
        "      for j in range(num_classes):\n",
        "        dW[:, j] += X[i] * softmax[j]\n",
        "      dW[:,y[i]] -= X[i]\n",
        "\n",
        "```\n",
        "\n",
        "\n",
        "<h3>Explanation of the naive implementation</h3>\n",
        "\n",
        "```\n",
        "num_train = X.shape[0]\n",
        "    num_classes = W.shape[1]\n",
        "    for i in range(num_train):\n",
        "      softmax = np.exp(stable_scores[i])/np.sum(np.exp(stable_scores[i]))\n",
        "      loss += -np.log(softmax[y[i]])\n",
        "      for j in range(num_classes):\n",
        "        dW[:, j] += X[i] * softmax[j]\n",
        "      dW[:,y[i]] -= X[i]\n",
        "\n",
        "```\n",
        "What we need to calculate : $$ {∂L_i\\over∂W_{ij}} = {∂L_i\\over∂f{ij}} * {∂f{ij}\\over∂W{ij}} $$  \n",
        "Also, score = XW so\n",
        "$$ {∂f{ij}\\over∂W{kj}} = ∂X_{ik} $$\n",
        "Let score as f for short.  \n",
        "\n",
        "$$L_i = -log(softmax({f_{i{y_i}}}))$$\n",
        "\n",
        "$${∂L_i\\over∂f{ij}}=-{1\\over softmax({f_{i{y_i}}})}*{∂softmax({f_{i{y_i}}})\\over∂f{ij}}$$\n",
        "\n",
        "Now we need to calculate this first.\n",
        "\n",
        "$$∂softmax({f_{i{y_i}}})\\over∂f{ij}$$   \n",
        "\n",
        "$$ (j=y_i)\n",
        " { e^{f_{i{y_i}}}∑-e^{f_{i{y_i}}}e^{f_{i{y_i}}}\\over∑^2 }\n",
        " \\\\={e^{f_{i{y_i}}}\\over∑} * {∑-e^{f_{i{y_i}}}\\over∑}\n",
        " \\\\=softmax(f_{ij})(1-softmax(f_{ij}))\n",
        "$$\n",
        "\n",
        "$$ (j\\ne{y_i})\n",
        "  { 0-e^{f_{i{y_i}}}e^{f_{ij}}\\over∑^2 }\n",
        "  \\\\=-softmax(f_{i{y_i}})softmax(f_{ij})\n",
        "$$  \n",
        "\n",
        "Therefore,\n",
        "$${∂L_i\\over∂f{ij}} =\n",
        "\\begin{cases}\n",
        "(j=y_i)\\ softmax(f_{ij})-1\n",
        "\\\\\n",
        "(j\\ne{y_i})\\ softmax(f_{ij})-0\n",
        "\\end{cases}\n",
        "$$   \n",
        "\n",
        "\n",
        "Now we have\n",
        "$$\n",
        "{∂L_i\\over∂W_{ij}} =\n",
        "\\begin{cases}\n",
        "(j=y_i)\\ X_{ij}(softmax(f_{ij})-1)\n",
        "\\\\\n",
        "(j\\ne{y_i})\\ X_{ij}(softmax(f_{ij}))\n",
        "\\end{cases}\n",
        "$$"
      ],
      "metadata": {
        "id": "ptKaJTRdcnR2"
      },
      "id": "ptKaJTRdcnR2"
    },
    {
      "cell_type": "code",
      "execution_count": null,
      "id": "3994f8a3",
      "metadata": {
        "id": "3994f8a3",
        "colab": {
          "base_uri": "https://localhost:8080/"
        },
        "outputId": "c4953c23-aa82-49b7-d373-d5726483a118"
      },
      "outputs": [
        {
          "output_type": "stream",
          "name": "stdout",
          "text": [
            "naive loss: 3.094899e+04 computed in 0.087023s\n",
            "vectorized loss: 2.376492e+00 computed in 0.011745s\n",
            "Loss difference: 30946.612353\n",
            "Gradient difference: 0.000000\n"
          ]
        }
      ],
      "source": [
        "# Now that we have a naive implementation of the softmax loss function and its gradient,\n",
        "# implement a vectorized version in softmax_loss_vectorized.\n",
        "# The two versions should compute the same results, but the vectorized version should be\n",
        "# much faster.\n",
        "tic = time.time()\n",
        "loss_naive, grad_naive = softmax_loss_naive(W, X_dev, y_dev, 0.000005)\n",
        "toc = time.time()\n",
        "print('naive loss: %e computed in %fs' % (loss_naive, toc - tic))\n",
        "\n",
        "from cs231n.classifiers.softmax import softmax_loss_vectorized\n",
        "tic = time.time()\n",
        "loss_vectorized, grad_vectorized = softmax_loss_vectorized(W, X_dev, y_dev, 0.000005)\n",
        "toc = time.time()\n",
        "print('vectorized loss: %e computed in %fs' % (loss_vectorized, toc - tic))\n",
        "\n",
        "# As we did for the SVM, we use the Frobenius norm to compare the two versions\n",
        "# of the gradient.\n",
        "grad_difference = np.linalg.norm(grad_naive - grad_vectorized, ord='fro')\n",
        "print('Loss difference: %f' % np.abs(loss_naive - loss_vectorized))\n",
        "print('Gradient difference: %f' % grad_difference)"
      ]
    },
    {
      "cell_type": "code",
      "execution_count": null,
      "id": "bd171311",
      "metadata": {
        "tags": [
          "code"
        ],
        "test": "tuning",
        "id": "bd171311",
        "colab": {
          "base_uri": "https://localhost:8080/"
        },
        "outputId": "02ac84a2-8e5b-4d81-8f67-78d6ffdf3e9b"
      },
      "outputs": [
        {
          "output_type": "stream",
          "name": "stdout",
          "text": [
            "iteration 0 / 1000: loss 69.111278\n",
            "iteration 100 / 1000: loss 60.885133\n",
            "iteration 200 / 1000: loss 55.894038\n",
            "iteration 300 / 1000: loss 51.366940\n",
            "iteration 400 / 1000: loss 47.410741\n",
            "iteration 500 / 1000: loss 43.576698\n",
            "iteration 600 / 1000: loss 40.293533\n",
            "iteration 700 / 1000: loss 37.372094\n",
            "iteration 800 / 1000: loss 34.424793\n",
            "iteration 900 / 1000: loss 32.037558\n",
            "iteration 0 / 1000: loss 36.295661\n",
            "iteration 100 / 1000: loss 33.193122\n",
            "iteration 200 / 1000: loss 30.201078\n",
            "iteration 300 / 1000: loss 27.360210\n",
            "iteration 400 / 1000: loss 24.898123\n",
            "iteration 500 / 1000: loss 22.530783\n",
            "iteration 600 / 1000: loss 20.622542\n",
            "iteration 700 / 1000: loss 18.794368\n",
            "iteration 800 / 1000: loss 17.321166\n",
            "iteration 900 / 1000: loss 15.644516\n",
            "iteration 0 / 1000: loss 201.242519\n",
            "iteration 100 / 1000: loss 42.073165\n",
            "iteration 200 / 1000: loss 10.108790\n",
            "iteration 300 / 1000: loss 3.702928\n",
            "iteration 400 / 1000: loss 2.466785\n",
            "iteration 500 / 1000: loss 2.213070\n",
            "iteration 600 / 1000: loss 2.187113\n",
            "iteration 700 / 1000: loss 2.146239\n",
            "iteration 800 / 1000: loss 2.109359\n",
            "iteration 900 / 1000: loss 2.061613\n",
            "iteration 0 / 1000: loss 2.183469\n",
            "iteration 100 / 1000: loss 2.215189\n",
            "iteration 200 / 1000: loss 2.118141\n",
            "iteration 300 / 1000: loss 2.138861\n",
            "iteration 400 / 1000: loss 2.165522\n",
            "iteration 500 / 1000: loss 2.173013\n",
            "iteration 600 / 1000: loss 2.211960\n",
            "iteration 700 / 1000: loss 2.151335\n",
            "iteration 800 / 1000: loss 2.115323\n",
            "iteration 900 / 1000: loss 2.126199\n",
            "iteration 0 / 1000: loss 2.117370\n",
            "iteration 100 / 1000: loss 1.850942\n",
            "iteration 200 / 1000: loss 1.885716\n",
            "iteration 300 / 1000: loss 1.824316\n",
            "iteration 400 / 1000: loss 1.916917\n",
            "iteration 500 / 1000: loss 1.940952\n",
            "iteration 600 / 1000: loss 1.765208\n",
            "iteration 700 / 1000: loss 1.920331\n",
            "iteration 800 / 1000: loss 1.834501\n",
            "iteration 900 / 1000: loss 1.919007\n",
            "iteration 0 / 1000: loss 1.854299\n",
            "iteration 100 / 1000: loss 1.893801\n",
            "iteration 200 / 1000: loss 1.852869\n",
            "iteration 300 / 1000: loss 1.899209\n",
            "iteration 400 / 1000: loss 1.795977\n",
            "iteration 500 / 1000: loss 1.927707\n",
            "iteration 600 / 1000: loss 1.936635\n",
            "iteration 700 / 1000: loss 1.921238\n",
            "iteration 800 / 1000: loss 1.885959\n",
            "iteration 900 / 1000: loss 1.854746\n",
            "iteration 0 / 1000: loss 3.133820\n",
            "iteration 100 / 1000: loss 2.145661\n",
            "iteration 200 / 1000: loss 2.054407\n",
            "iteration 300 / 1000: loss 2.168847\n",
            "iteration 400 / 1000: loss 2.137346\n",
            "iteration 500 / 1000: loss 2.140938\n",
            "iteration 600 / 1000: loss 2.153473\n",
            "iteration 700 / 1000: loss 2.082505\n",
            "iteration 800 / 1000: loss 2.132800\n",
            "iteration 900 / 1000: loss 2.073643\n",
            "iteration 0 / 1000: loss 2.138331\n",
            "iteration 100 / 1000: loss 2.130601\n",
            "iteration 200 / 1000: loss 2.187255\n",
            "iteration 300 / 1000: loss 2.133029\n",
            "iteration 400 / 1000: loss 2.113184\n",
            "iteration 500 / 1000: loss 2.156858\n",
            "iteration 600 / 1000: loss 2.206216\n",
            "iteration 700 / 1000: loss 2.137790\n",
            "iteration 800 / 1000: loss 2.154776\n",
            "iteration 900 / 1000: loss 2.158198\n",
            "lr 1.000000e-07 reg 2.000000e+03 train accuracy: 0.247714 val accuracy: 0.281000\n",
            "lr 1.000000e-07 reg 2.500000e+03 train accuracy: 0.313551 val accuracy: 0.326000\n",
            "lr 1.000000e-07 reg 4.000000e+04 train accuracy: 0.312388 val accuracy: 0.326000\n",
            "lr 1.000000e-07 reg 5.000000e+04 train accuracy: 0.308204 val accuracy: 0.318000\n",
            "lr 5.000000e-07 reg 2.000000e+03 train accuracy: 0.391041 val accuracy: 0.401000\n",
            "lr 5.000000e-07 reg 2.500000e+03 train accuracy: 0.390551 val accuracy: 0.397000\n",
            "lr 5.000000e-07 reg 4.000000e+04 train accuracy: 0.314837 val accuracy: 0.315000\n",
            "lr 5.000000e-07 reg 5.000000e+04 train accuracy: 0.299531 val accuracy: 0.324000\n",
            "best validation accuracy achieved during cross-validation: 0.401000\n"
          ]
        }
      ],
      "source": [
        "# Use the validation set to tune hyperparameters (regularization strength and\n",
        "# learning rate). You should experiment with different ranges for the learning\n",
        "# rates and regularization strengths; if you are careful you should be able to\n",
        "# get a classification accuracy of over 0.35 on the validation set.\n",
        "\n",
        "from cs231n.classifiers import Softmax\n",
        "results = {}\n",
        "best_val = -1\n",
        "best_softmax = None\n",
        "\n",
        "################################################################################\n",
        "# TODO:                                                                        #\n",
        "# Use the validation set to set the learning rate and regularization strength. #\n",
        "# This should be identical to the validation that you did for the SVM; save    #\n",
        "# the best trained softmax classifer in best_softmax.                          #\n",
        "################################################################################\n",
        "\n",
        "# Provided as a reference. You may or may not want to change these hyperparameters\n",
        "learning_rates = [1e-7, 5e-7]\n",
        "regularization_strengths = [2e3, 2.5e3, 4e4, 5e4]\n",
        "\n",
        "# *****START OF YOUR CODE (DO NOT DELETE/MODIFY THIS LINE)*****\n",
        "\n",
        "softmax = Softmax()\n",
        "\n",
        "test_case = [(lr,rs) for lr in learning_rates for rs in regularization_strengths]\n",
        "\n",
        "for lr, rs in test_case:\n",
        "  softmax.train(X_train, y_train, learning_rate=lr, reg=rs, num_iters=1000, verbose=True)\n",
        "\n",
        "  train_pred = softmax.predict(X_train)\n",
        "  train_accuracy = np.mean(train_pred == y_train)\n",
        "\n",
        "  val_pred = softmax.predict(X_val)\n",
        "  val_accuracy = np.mean(val_pred == y_val)\n",
        "\n",
        "  if best_val < val_accuracy:\n",
        "    best_val = val_accuracy\n",
        "    best_softmax = softmax\n",
        "\n",
        "  results[(lr, rs)] = (train_accuracy, val_accuracy)\n",
        "# *****END OF YOUR CODE (DO NOT DELETE/MODIFY THIS LINE)*****\n",
        "\n",
        "# Print out results.\n",
        "for lr, reg in sorted(results):\n",
        "    train_accuracy, val_accuracy = results[(lr, reg)]\n",
        "    print('lr %e reg %e train accuracy: %f val accuracy: %f' % (\n",
        "                lr, reg, train_accuracy, val_accuracy))\n",
        "\n",
        "print('best validation accuracy achieved during cross-validation: %f' % best_val)"
      ]
    },
    {
      "cell_type": "code",
      "execution_count": null,
      "id": "f94a8f12",
      "metadata": {
        "test": "test",
        "id": "f94a8f12",
        "colab": {
          "base_uri": "https://localhost:8080/"
        },
        "outputId": "72d115ad-b322-4b7e-dada-69da22d43f21"
      },
      "outputs": [
        {
          "output_type": "stream",
          "name": "stdout",
          "text": [
            "softmax on raw pixels final test set accuracy: 0.319000\n"
          ]
        }
      ],
      "source": [
        "# evaluate on test set\n",
        "# Evaluate the best softmax on test set\n",
        "y_test_pred = best_softmax.predict(X_test)\n",
        "test_accuracy = np.mean(y_test == y_test_pred)\n",
        "print('softmax on raw pixels final test set accuracy: %f' % (test_accuracy, ))"
      ]
    },
    {
      "cell_type": "markdown",
      "id": "7e2112ee",
      "metadata": {
        "tags": [
          "pdf-inline"
        ],
        "id": "7e2112ee"
      },
      "source": [
        "**Inline Question 2** - *True or False*\n",
        "\n",
        "Suppose the overall training loss is defined as the sum of the per-datapoint loss over all training examples. It is possible to add a new datapoint to a training set that would leave the SVM loss unchanged, but this is not the case with the Softmax classifier loss.\n",
        "\n",
        "$\\color{blue}{\\textit Your Answer:}$  \n",
        "true\n",
        "\n",
        "$\\color{blue}{\\textit Your Explanation:}$  \n",
        "Example case for such condition:  \n",
        "When the SVM loss was 0, adding datapoint that has scores as [1,2,6] as a new datapoint(correct class is 2, score is 6 in this case) would not change the SVM loss.  \n",
        "max(0, 1-6+1)=0, max(2-6+1)=0\n",
        "\n",
        "However the Softmax classifier loss changes.  \n",
        "-log(softmax(6)) = 0.01\n"
      ]
    },
    {
      "cell_type": "code",
      "execution_count": null,
      "id": "86d86120",
      "metadata": {
        "id": "86d86120",
        "colab": {
          "base_uri": "https://localhost:8080/",
          "height": 528
        },
        "outputId": "f2664be8-9a45-47ad-acbf-8324c13b4bb5"
      },
      "outputs": [
        {
          "output_type": "display_data",
          "data": {
            "text/plain": [
              "<Figure size 1000x800 with 10 Axes>"
            ],
            "image/png": "[encoded data removed]"
          },
          "metadata": {}
        }
      ],
      "source": [
        "# Visualize the learned weights for each class\n",
        "w = best_softmax.W[:-1,:] # strip out the bias\n",
        "w = w.reshape(32, 32, 3, 10)\n",
        "\n",
        "w_min, w_max = np.min(w), np.max(w)\n",
        "\n",
        "classes = ['plane', 'car', 'bird', 'cat', 'deer', 'dog', 'frog', 'horse', 'ship', 'truck']\n",
        "for i in range(10):\n",
        "    plt.subplot(2, 5, i + 1)\n",
        "\n",
        "    # Rescale the weights to be between 0 and 255\n",
        "    wimg = 255.0 * (w[:, :, :, i].squeeze() - w_min) / (w_max - w_min)\n",
        "    plt.imshow(wimg.astype('uint8'))\n",
        "    plt.axis('off')\n",
        "    plt.title(classes[i])"
      ]
    }
  ],
  "metadata": {
    "colab": {
      "provenance": [],
      "include_colab_link": true
    },
    "language_info": {
      "name": "python"
    },
    "kernelspec": {
      "name": "python3",
      "display_name": "Python 3"
    }
  },
  "nbformat": 4,
  "nbformat_minor": 5
}